{
 "cells": [
  {
   "cell_type": "markdown",
   "id": "1f632fcc",
   "metadata": {},
   "source": [
    "# RIDGE REGRESSION LINEAR REGRESSION"
   ]
  },
  {
   "cell_type": "markdown",
   "id": "76d8d5ac",
   "metadata": {},
   "source": [
    "The following notebook is my code for my linear regression with ridge regression of the concrete data. First, I imported all necessary packages."
   ]
  },
  {
   "cell_type": "code",
   "execution_count": 69,
   "id": "1634d7ed",
   "metadata": {},
   "outputs": [],
   "source": [
    "# importing pandas\n",
    "import pandas as pd\n",
    "#importing numpy\n",
    "import numpy as np\n",
    "#importing matplotlib\n",
    "import matplotlib.pyplot as plt\n",
    "#importing seaborn\n",
    "import seaborn as sb\n",
    "from sklearn.impute import SimpleImputer # used for handling missing data\n",
    "from sklearn.preprocessing import LabelEncoder, OneHotEncoder # used for encoding categorical data\n",
    "from sklearn.model_selection import train_test_split # used for splitting training and testing data\n",
    "from sklearn.preprocessing import StandardScaler # used for feature scaling"
   ]
  },
  {
   "cell_type": "markdown",
   "id": "df1d9918",
   "metadata": {},
   "source": [
    "This is to confirm the data is in the correct directory."
   ]
  },
  {
   "cell_type": "code",
   "execution_count": 70,
   "id": "44a57b76",
   "metadata": {},
   "outputs": [],
   "source": [
    "from os.path import exists\n",
    "data_dir = 'data'\n",
    "#data_dir = 'Documents/Users/kobo/514-assignment-1/data'\n",
    "assert exists(f'{data_dir}/Concrete_Data.csv'), 'concrete data file is missing.'\n",
    "data = pd.read_csv(f'{data_dir}/Concrete_Data.csv')"
   ]
  },
  {
   "cell_type": "markdown",
   "id": "cd1d745d",
   "metadata": {},
   "source": [
    "The following reads the data file and prints out all the feature attributes in the dataset."
   ]
  },
  {
   "cell_type": "code",
   "execution_count": 71,
   "id": "d33f2c72",
   "metadata": {},
   "outputs": [
    {
     "data": {
      "text/plain": [
       "Index(['Cement (component 1)(kg in a m^3 mixture)',\n",
       "       'Blast Furnace Slag (component 2)(kg in a m^3 mixture)',\n",
       "       'Fly Ash (component 3)(kg in a m^3 mixture)',\n",
       "       'Water  (component 4)(kg in a m^3 mixture)',\n",
       "       'Superplasticizer (component 5)(kg in a m^3 mixture)',\n",
       "       'Coarse Aggregate  (component 6)(kg in a m^3 mixture)',\n",
       "       'Fine Aggregate (component 7)(kg in a m^3 mixture)', 'Age (day)',\n",
       "       'Concrete compressive strength(MPa, megapascals) '],\n",
       "      dtype='object')"
      ]
     },
     "execution_count": 71,
     "metadata": {},
     "output_type": "execute_result"
    }
   ],
   "source": [
    "data.columns"
   ]
  },
  {
   "cell_type": "markdown",
   "id": "9cc162b0",
   "metadata": {},
   "source": [
    "The following cell replaces any values that are missing or nan with the mean of that feature. "
   ]
  },
  {
   "cell_type": "code",
   "execution_count": 36,
   "id": "93ab9ae8",
   "metadata": {},
   "outputs": [],
   "source": [
    "imputer = SimpleImputer(missing_values=np.nan, strategy='mean') \n",
    "imputer = imputer.fit(data.iloc[:, 1:])\n",
    "data.iloc[:, 1:] = imputer.transform(data.iloc[:, 1:])"
   ]
  },
  {
   "cell_type": "markdown",
   "id": "c4a15b9d",
   "metadata": {},
   "source": [
    "The following cell separates the dataset into its input features (X) and its output feature (Y). In addition, I standardized all features by subtracting each feature's value from the feature's mean and then dividing that by the feature's standard deviation. When running my code for the univariate ridge regression models, I would just switch our the feature name from X and run the rest of my code from there. "
   ]
  },
  {
   "cell_type": "code",
   "execution_count": 72,
   "id": "697f5347",
   "metadata": {},
   "outputs": [],
   "source": [
    "X=data[['Cement (component 1)(kg in a m^3 mixture)']]\n",
    "Y=data['Concrete compressive strength(MPa, megapascals) ']\n",
    "py=np.array((Y-Y.mean())/Y.std())\n",
    "pX=X.apply(lambda rec:(rec-rec.mean())/rec.std(),axis=0)"
   ]
  },
  {
   "cell_type": "markdown",
   "id": "1e27e7d4",
   "metadata": {},
   "source": [
    "The following cell shows the standardization of my feature values. "
   ]
  },
  {
   "cell_type": "code",
   "execution_count": 73,
   "id": "d81bd4cc",
   "metadata": {
    "scrolled": true
   },
   "outputs": [
    {
     "data": {
      "text/html": [
       "<div>\n",
       "<style scoped>\n",
       "    .dataframe tbody tr th:only-of-type {\n",
       "        vertical-align: middle;\n",
       "    }\n",
       "\n",
       "    .dataframe tbody tr th {\n",
       "        vertical-align: top;\n",
       "    }\n",
       "\n",
       "    .dataframe thead th {\n",
       "        text-align: right;\n",
       "    }\n",
       "</style>\n",
       "<table border=\"1\" class=\"dataframe\">\n",
       "  <thead>\n",
       "    <tr style=\"text-align: right;\">\n",
       "      <th></th>\n",
       "      <th>Cement (component 1)(kg in a m^3 mixture)</th>\n",
       "    </tr>\n",
       "  </thead>\n",
       "  <tbody>\n",
       "    <tr>\n",
       "      <th>0</th>\n",
       "      <td>2.476712</td>\n",
       "    </tr>\n",
       "    <tr>\n",
       "      <th>1</th>\n",
       "      <td>2.476712</td>\n",
       "    </tr>\n",
       "    <tr>\n",
       "      <th>2</th>\n",
       "      <td>0.491187</td>\n",
       "    </tr>\n",
       "    <tr>\n",
       "      <th>3</th>\n",
       "      <td>0.491187</td>\n",
       "    </tr>\n",
       "    <tr>\n",
       "      <th>4</th>\n",
       "      <td>-0.790075</td>\n",
       "    </tr>\n",
       "    <tr>\n",
       "      <th>...</th>\n",
       "      <td>...</td>\n",
       "    </tr>\n",
       "    <tr>\n",
       "      <th>1025</th>\n",
       "      <td>-0.045623</td>\n",
       "    </tr>\n",
       "    <tr>\n",
       "      <th>1026</th>\n",
       "      <td>0.392628</td>\n",
       "    </tr>\n",
       "    <tr>\n",
       "      <th>1027</th>\n",
       "      <td>-1.269472</td>\n",
       "    </tr>\n",
       "    <tr>\n",
       "      <th>1028</th>\n",
       "      <td>-1.168042</td>\n",
       "    </tr>\n",
       "    <tr>\n",
       "      <th>1029</th>\n",
       "      <td>-0.193939</td>\n",
       "    </tr>\n",
       "  </tbody>\n",
       "</table>\n",
       "<p>1030 rows × 1 columns</p>\n",
       "</div>"
      ],
      "text/plain": [
       "      Cement (component 1)(kg in a m^3 mixture)\n",
       "0                                      2.476712\n",
       "1                                      2.476712\n",
       "2                                      0.491187\n",
       "3                                      0.491187\n",
       "4                                     -0.790075\n",
       "...                                         ...\n",
       "1025                                  -0.045623\n",
       "1026                                   0.392628\n",
       "1027                                  -1.269472\n",
       "1028                                  -1.168042\n",
       "1029                                  -0.193939\n",
       "\n",
       "[1030 rows x 1 columns]"
      ]
     },
     "execution_count": 73,
     "metadata": {},
     "output_type": "execute_result"
    }
   ],
   "source": [
    "pX"
   ]
  },
  {
   "cell_type": "markdown",
   "id": "d1fb15e5",
   "metadata": {},
   "source": [
    "The following cells splits the dataset into its training and testing sets for BOTH the processed and raw data. This way we can compare the two later on."
   ]
  },
  {
   "cell_type": "code",
   "execution_count": 74,
   "id": "5e049554",
   "metadata": {},
   "outputs": [],
   "source": [
    "X_train, X_test, y_train, y_test = train_test_split(X, Y, test_size=0.126, random_state=4)"
   ]
  },
  {
   "cell_type": "code",
   "execution_count": 75,
   "id": "2983185c",
   "metadata": {},
   "outputs": [],
   "source": [
    "pX_train, pX_test, py_train, py_test = train_test_split(pX, py, test_size=0.126, random_state=4)"
   ]
  },
  {
   "cell_type": "code",
   "execution_count": 76,
   "id": "b7e8b9bd",
   "metadata": {},
   "outputs": [
    {
     "data": {
      "text/html": [
       "<div>\n",
       "<style scoped>\n",
       "    .dataframe tbody tr th:only-of-type {\n",
       "        vertical-align: middle;\n",
       "    }\n",
       "\n",
       "    .dataframe tbody tr th {\n",
       "        vertical-align: top;\n",
       "    }\n",
       "\n",
       "    .dataframe thead th {\n",
       "        text-align: right;\n",
       "    }\n",
       "</style>\n",
       "<table border=\"1\" class=\"dataframe\">\n",
       "  <thead>\n",
       "    <tr style=\"text-align: right;\">\n",
       "      <th></th>\n",
       "      <th>Cement (component 1)(kg in a m^3 mixture)</th>\n",
       "    </tr>\n",
       "  </thead>\n",
       "  <tbody>\n",
       "    <tr>\n",
       "      <th>522</th>\n",
       "      <td>284.0</td>\n",
       "    </tr>\n",
       "    <tr>\n",
       "      <th>701</th>\n",
       "      <td>288.0</td>\n",
       "    </tr>\n",
       "    <tr>\n",
       "      <th>563</th>\n",
       "      <td>210.7</td>\n",
       "    </tr>\n",
       "    <tr>\n",
       "      <th>678</th>\n",
       "      <td>288.0</td>\n",
       "    </tr>\n",
       "    <tr>\n",
       "      <th>98</th>\n",
       "      <td>475.0</td>\n",
       "    </tr>\n",
       "    <tr>\n",
       "      <th>...</th>\n",
       "      <td>...</td>\n",
       "    </tr>\n",
       "    <tr>\n",
       "      <th>157</th>\n",
       "      <td>362.6</td>\n",
       "    </tr>\n",
       "    <tr>\n",
       "      <th>910</th>\n",
       "      <td>144.0</td>\n",
       "    </tr>\n",
       "    <tr>\n",
       "      <th>102</th>\n",
       "      <td>531.3</td>\n",
       "    </tr>\n",
       "    <tr>\n",
       "      <th>170</th>\n",
       "      <td>388.6</td>\n",
       "    </tr>\n",
       "    <tr>\n",
       "      <th>321</th>\n",
       "      <td>249.1</td>\n",
       "    </tr>\n",
       "  </tbody>\n",
       "</table>\n",
       "<p>130 rows × 1 columns</p>\n",
       "</div>"
      ],
      "text/plain": [
       "     Cement (component 1)(kg in a m^3 mixture)\n",
       "522                                      284.0\n",
       "701                                      288.0\n",
       "563                                      210.7\n",
       "678                                      288.0\n",
       "98                                       475.0\n",
       "..                                         ...\n",
       "157                                      362.6\n",
       "910                                      144.0\n",
       "102                                      531.3\n",
       "170                                      388.6\n",
       "321                                      249.1\n",
       "\n",
       "[130 rows x 1 columns]"
      ]
     },
     "execution_count": 76,
     "metadata": {},
     "output_type": "execute_result"
    }
   ],
   "source": [
    "X_test"
   ]
  },
  {
   "cell_type": "markdown",
   "id": "49341429",
   "metadata": {},
   "source": [
    "The following cells define the cost function and gradient descent for my ridge regression. "
   ]
  },
  {
   "cell_type": "code",
   "execution_count": 78,
   "id": "baab9bb2",
   "metadata": {},
   "outputs": [],
   "source": [
    "class ridgeRegression():\n",
    "    def initialization(self, learning_rate, iterations, l2_penality) :\n",
    "        self.learning_rate = learning_rate        \n",
    "        self.iterations = iterations        \n",
    "        self.l2_penality = l2_penality\n",
    "    def fit(self, X, Y):     \n",
    "        self.m, self.n = X.shape     \n",
    "        self.W = np.zeros(self.n)\n",
    "        self.b = 0        \n",
    "        self.X = X        \n",
    "        self.Y = Y                \n",
    "        for i in range(self.iterations):            \n",
    "            self.update_weights()            \n",
    "        return self \n",
    "    def update_weights(self):           \n",
    "        Y_pred = self.predict(self.X)  \n",
    "        dw = (-(2*(self.X.T).dot(self.Y - Y_pred)) + (2*self.l2_penality*self.W))/self.m     \n",
    "        db = - 2*np.sum(self.Y - Y_pred)/self.m    \n",
    "        self.W = self.W - self.learning_rate*dw    \n",
    "        self.b = self.b - self.learning_rate*db        \n",
    "        return self\n",
    "    def predict(self,X):    \n",
    "        return X.dot(self.W) + self.b"
   ]
  },
  {
   "cell_type": "code",
   "execution_count": 82,
   "id": "e441bb79",
   "metadata": {},
   "outputs": [
    {
     "name": "stdout",
     "output_type": "stream",
     "text": [
      "Pre-Processed Trained Predicted values  936   -0.204849\n",
      "611   -0.013439\n",
      "766    0.502078\n",
      "dtype: float64\n",
      "Pre-Processed Trained Real values       [-0.4302689  -0.87143458 -0.47276925]\n",
      "Pre-Processed Trained Trained W         0.43331667965248877 2\n",
      "Pre-Processed Trained Trained b         0.004342333787404326 2\n",
      "Pre-Processed Test Predicted values  522    0.019974\n",
      "701    0.039067\n",
      "563   -0.329910\n",
      "dtype: float64\n",
      "Pre-Processed Test Real values       [ 0.52090107  0.88065761 -0.83791317]\n",
      "Pre-Processed Test Trained W         0.4052481279557295 2\n",
      "Pre-Processed Test Trained b         -0.028528753727753296 2\n",
      "Raw Trained Predicted values  936    118.181855\n",
      "611    138.185373\n",
      "766    192.060186\n",
      "dtype: float64\n",
      "Raw Trained Real values       936    28.63\n",
      "611    21.26\n",
      "766    27.92\n",
      "Name: Concrete compressive strength(MPa, megapascals) , dtype: float64\n",
      "Raw Trained Trained W         nan 2\n",
      "Raw Trained Trained b         -inf 2\n",
      "Raw Test Predicted values  522    141.677259\n",
      "701    143.672623\n",
      "563    105.112224\n",
      "dtype: float64\n",
      "Raw Test Real values       522    44.52\n",
      "701    50.53\n",
      "563    21.82\n",
      "Name: Concrete compressive strength(MPa, megapascals) , dtype: float64\n",
      "Raw Test Trained W         nan 2\n",
      "Raw Test Trained b         -inf 2\n"
     ]
    }
   ],
   "source": [
    "pX_train_model = RidgeRegression(iterations = 1000, learning_rate = 0.001, l2_penality = 1)\n",
    "pX_test_model = RidgeRegression(iterations = 1000, learning_rate = 0.001, l2_penality = 1)\n",
    "X_train_model = RidgeRegression(iterations = 1000, learning_rate = 0.001, l2_penality = 1)\n",
    "X_test_model = RidgeRegression(iterations = 1000, learning_rate = 0.001, l2_penality = 1)\n",
    "pX_train_model.fit(pX_train, py_train)\n",
    "pX_test_model.fit(pX_test, py_test)\n",
    "X_train_model.fit(X_train, y_train)\n",
    "X_test_model.fit(X_test, y_test)\n",
    "      \n",
    "pX_train_pred = model.predict(pX_train)    \n",
    "print( \"Pre-Processed Trained Predicted values \", pX_train_pred[:3] )     \n",
    "print( \"Pre-Processed Trained Real values      \", py_train[:3] )    \n",
    "print( \"Pre-Processed Trained Trained W        \", pX_train_model.W[0], 2 )    \n",
    "print( \"Pre-Processed Trained Trained b        \", pX_train_model.b, 2)       \n",
    "\n",
    "pX_test_pred = model.predict(pX_test)    \n",
    "print( \"Pre-Processed Test Predicted values \", pX_test_pred[:3] )     \n",
    "print( \"Pre-Processed Test Real values      \", py_test[:3] )    \n",
    "print( \"Pre-Processed Test Trained W        \", pX_test_model.W[0], 2 )    \n",
    "print( \"Pre-Processed Test Trained b        \", pX_test_model.b, 2) \n",
    "\n",
    "X_train_pred = model.predict(X_train)    \n",
    "print( \"Raw Trained Predicted values \", X_train_pred[:3] )     \n",
    "print( \"Raw Trained Real values      \", y_train[:3] )    \n",
    "print( \"Raw Trained Trained W        \", X_train_model.W[0], 2 )    \n",
    "print( \"Raw Trained Trained b        \", X_train_model.b, 2)   \n",
    "\n",
    "X_test_pred = model.predict(X_test)    \n",
    "print( \"Raw Test Predicted values \", X_test_pred[:3] )     \n",
    "print( \"Raw Test Real values      \", y_test[:3] )    \n",
    "print( \"Raw Test Trained W        \", X_test_model.W[0], 2 )    \n",
    "print( \"Raw Test Trained b        \", X_test_model.b, 2)   \n",
    "      "
   ]
  },
  {
   "cell_type": "markdown",
   "id": "a810344f",
   "metadata": {},
   "source": [
    "The following cell is the variance explained function. "
   ]
  },
  {
   "cell_type": "code",
   "execution_count": 83,
   "id": "209cc205",
   "metadata": {},
   "outputs": [],
   "source": [
    "def r2(X, y, y_pred):\n",
    "    SSE = sum((y-y_pred)**2) # Sum of squared error\n",
    "    SST = sum((y-np.mean(y))**2) # Sum of squared total\n",
    "    n = len(X)\n",
    "    MSE = SSE/n # Mean Squared Error\n",
    "    R_squared = 1-(SSE/SST) # R Square\n",
    "    return R_squared"
   ]
  },
  {
   "cell_type": "markdown",
   "id": "87ce828d",
   "metadata": {},
   "source": [
    "The printed out variance explained values are in the order of (processed trained split, processed test split, raw train split, raw test split)"
   ]
  },
  {
   "cell_type": "code",
   "execution_count": 84,
   "id": "75d99159",
   "metadata": {},
   "outputs": [
    {
     "data": {
      "text/plain": [
       "(0.25486999506420316,\n",
       " 0.20157944853970822,\n",
       " -45.81717082401786,\n",
       " -45.38250060934351)"
      ]
     },
     "execution_count": 84,
     "metadata": {},
     "output_type": "execute_result"
    }
   ],
   "source": [
    "pX_train_r2 = r2(pX_train, py_train, pX_train_pred)\n",
    "pX_test_r2 = r2(pX_test, py_test, pX_test_pred)\n",
    "X_train_r2 = r2(X_train, y_train, X_train_pred)\n",
    "X_test_r2 = r2(X_test, y_test, X_test_pred)\n",
    "pX_train_r2, pX_test_r2, X_train_r2, X_test_r2"
   ]
  },
  {
   "cell_type": "code",
   "execution_count": null,
   "id": "323b59de",
   "metadata": {},
   "outputs": [],
   "source": []
  }
 ],
 "metadata": {
  "kernelspec": {
   "display_name": "Python 3",
   "language": "python",
   "name": "python3"
  },
  "language_info": {
   "codemirror_mode": {
    "name": "ipython",
    "version": 3
   },
   "file_extension": ".py",
   "mimetype": "text/x-python",
   "name": "python",
   "nbconvert_exporter": "python",
   "pygments_lexer": "ipython3",
   "version": "3.7.11"
  }
 },
 "nbformat": 4,
 "nbformat_minor": 5
}
