{
 "cells": [
  {
   "cell_type": "markdown",
   "id": "1f632fcc",
   "metadata": {},
   "source": [
    "# UNIVARIATE LINEAR REGRESSION"
   ]
  },
  {
   "cell_type": "markdown",
   "id": "76d8d5ac",
   "metadata": {},
   "source": [
    "The following notebook is my code for my univariate linear regression of the concrete data. First, I imported all necessary packages."
   ]
  },
  {
   "cell_type": "code",
   "execution_count": 1,
   "id": "1634d7ed",
   "metadata": {},
   "outputs": [],
   "source": [
    "# importing pandas\n",
    "import pandas as pd\n",
    "#importing numpy\n",
    "import numpy as np\n",
    "#importing matplotlib\n",
    "import matplotlib.pyplot as plt\n",
    "#importing seaborn\n",
    "import seaborn as sb\n",
    "from sklearn.impute import SimpleImputer # used for handling missing data\n",
    "from sklearn.preprocessing import LabelEncoder, OneHotEncoder # used for encoding categorical data\n",
    "from sklearn.model_selection import train_test_split # used for splitting training and testing data\n",
    "from sklearn.preprocessing import StandardScaler # used for feature scaling"
   ]
  },
  {
   "cell_type": "markdown",
   "id": "df1d9918",
   "metadata": {},
   "source": [
    "This is to confirm the data is in the correct directory."
   ]
  },
  {
   "cell_type": "code",
   "execution_count": 2,
   "id": "44a57b76",
   "metadata": {},
   "outputs": [],
   "source": [
    "from os.path import exists\n",
    "data_dir = 'data'\n",
    "#data_dir = 'Documents/Users/kobo/514-assignment-1/data'\n",
    "assert exists(f'{data_dir}/Concrete_Data.csv'), 'concrete data file is missing.'\n",
    "data = pd.read_csv(f'{data_dir}/Concrete_Data.csv')"
   ]
  },
  {
   "cell_type": "markdown",
   "id": "cd1d745d",
   "metadata": {},
   "source": [
    "The following reads the data file and prints out all the feature attributes in the dataset."
   ]
  },
  {
   "cell_type": "code",
   "execution_count": 3,
   "id": "d33f2c72",
   "metadata": {},
   "outputs": [
    {
     "data": {
      "text/plain": [
       "Index(['Cement (component 1)(kg in a m^3 mixture)',\n",
       "       'Blast Furnace Slag (component 2)(kg in a m^3 mixture)',\n",
       "       'Fly Ash (component 3)(kg in a m^3 mixture)',\n",
       "       'Water  (component 4)(kg in a m^3 mixture)',\n",
       "       'Superplasticizer (component 5)(kg in a m^3 mixture)',\n",
       "       'Coarse Aggregate  (component 6)(kg in a m^3 mixture)',\n",
       "       'Fine Aggregate (component 7)(kg in a m^3 mixture)', 'Age (day)',\n",
       "       'Concrete compressive strength(MPa, megapascals) '],\n",
       "      dtype='object')"
      ]
     },
     "execution_count": 3,
     "metadata": {},
     "output_type": "execute_result"
    }
   ],
   "source": [
    "data.columns"
   ]
  },
  {
   "cell_type": "markdown",
   "id": "9cc162b0",
   "metadata": {},
   "source": [
    "The following cell replaces any values that are missing or nan with the mean of that feature. "
   ]
  },
  {
   "cell_type": "code",
   "execution_count": 4,
   "id": "93ab9ae8",
   "metadata": {},
   "outputs": [],
   "source": [
    "imputer = SimpleImputer(missing_values=np.nan, strategy='mean') \n",
    "imputer = imputer.fit(data.iloc[:, 1:])\n",
    "data.iloc[:, 1:] = imputer.transform(data.iloc[:, 1:])"
   ]
  },
  {
   "cell_type": "markdown",
   "id": "c4a15b9d",
   "metadata": {},
   "source": [
    "The following cell separates the dataset into its input features (X) and its output feature (Y). In addition, I standardized all features by subtracting each feature's value from the feature's mean and then dividing that by the feature's standard deviation. When running my code for the univariate models, I would just switch our the feature name from X and run the rest of my code from there. "
   ]
  },
  {
   "cell_type": "code",
   "execution_count": 6,
   "id": "697f5347",
   "metadata": {},
   "outputs": [],
   "source": [
    "X=data[['Cement (component 1)(kg in a m^3 mixture)']]\n",
    "Y=data['Concrete compressive strength(MPa, megapascals) ']\n",
    "py=np.array((Y-Y.mean())/Y.std())\n",
    "pX=X.apply(lambda rec:(rec-rec.mean())/rec.std(),axis=0)"
   ]
  },
  {
   "cell_type": "markdown",
   "id": "1e27e7d4",
   "metadata": {},
   "source": [
    "The following cell shows the standardization of my feature values. "
   ]
  },
  {
   "cell_type": "code",
   "execution_count": 7,
   "id": "d81bd4cc",
   "metadata": {
    "scrolled": true
   },
   "outputs": [
    {
     "data": {
      "text/html": [
       "<div>\n",
       "<style scoped>\n",
       "    .dataframe tbody tr th:only-of-type {\n",
       "        vertical-align: middle;\n",
       "    }\n",
       "\n",
       "    .dataframe tbody tr th {\n",
       "        vertical-align: top;\n",
       "    }\n",
       "\n",
       "    .dataframe thead th {\n",
       "        text-align: right;\n",
       "    }\n",
       "</style>\n",
       "<table border=\"1\" class=\"dataframe\">\n",
       "  <thead>\n",
       "    <tr style=\"text-align: right;\">\n",
       "      <th></th>\n",
       "      <th>Cement (component 1)(kg in a m^3 mixture)</th>\n",
       "    </tr>\n",
       "  </thead>\n",
       "  <tbody>\n",
       "    <tr>\n",
       "      <th>0</th>\n",
       "      <td>2.476712</td>\n",
       "    </tr>\n",
       "    <tr>\n",
       "      <th>1</th>\n",
       "      <td>2.476712</td>\n",
       "    </tr>\n",
       "    <tr>\n",
       "      <th>2</th>\n",
       "      <td>0.491187</td>\n",
       "    </tr>\n",
       "    <tr>\n",
       "      <th>3</th>\n",
       "      <td>0.491187</td>\n",
       "    </tr>\n",
       "    <tr>\n",
       "      <th>4</th>\n",
       "      <td>-0.790075</td>\n",
       "    </tr>\n",
       "    <tr>\n",
       "      <th>...</th>\n",
       "      <td>...</td>\n",
       "    </tr>\n",
       "    <tr>\n",
       "      <th>1025</th>\n",
       "      <td>-0.045623</td>\n",
       "    </tr>\n",
       "    <tr>\n",
       "      <th>1026</th>\n",
       "      <td>0.392628</td>\n",
       "    </tr>\n",
       "    <tr>\n",
       "      <th>1027</th>\n",
       "      <td>-1.269472</td>\n",
       "    </tr>\n",
       "    <tr>\n",
       "      <th>1028</th>\n",
       "      <td>-1.168042</td>\n",
       "    </tr>\n",
       "    <tr>\n",
       "      <th>1029</th>\n",
       "      <td>-0.193939</td>\n",
       "    </tr>\n",
       "  </tbody>\n",
       "</table>\n",
       "<p>1030 rows × 1 columns</p>\n",
       "</div>"
      ],
      "text/plain": [
       "      Cement (component 1)(kg in a m^3 mixture)\n",
       "0                                      2.476712\n",
       "1                                      2.476712\n",
       "2                                      0.491187\n",
       "3                                      0.491187\n",
       "4                                     -0.790075\n",
       "...                                         ...\n",
       "1025                                  -0.045623\n",
       "1026                                   0.392628\n",
       "1027                                  -1.269472\n",
       "1028                                  -1.168042\n",
       "1029                                  -0.193939\n",
       "\n",
       "[1030 rows x 1 columns]"
      ]
     },
     "execution_count": 7,
     "metadata": {},
     "output_type": "execute_result"
    }
   ],
   "source": [
    "pX"
   ]
  },
  {
   "cell_type": "markdown",
   "id": "d1fb15e5",
   "metadata": {},
   "source": [
    "The following cells splits the dataset into its training and testing sets for BOTH the processed and raw data. This way we can compare the two later on."
   ]
  },
  {
   "cell_type": "code",
   "execution_count": 8,
   "id": "5e049554",
   "metadata": {},
   "outputs": [],
   "source": [
    "X_train, X_test, y_train, y_test = train_test_split(X, Y, test_size=0.126, random_state=4)"
   ]
  },
  {
   "cell_type": "code",
   "execution_count": 9,
   "id": "2983185c",
   "metadata": {},
   "outputs": [],
   "source": [
    "pX_train, pX_test, py_train, py_test = train_test_split(pX, py, test_size=0.126, random_state=4)"
   ]
  },
  {
   "cell_type": "code",
   "execution_count": 10,
   "id": "b7e8b9bd",
   "metadata": {},
   "outputs": [
    {
     "data": {
      "text/html": [
       "<div>\n",
       "<style scoped>\n",
       "    .dataframe tbody tr th:only-of-type {\n",
       "        vertical-align: middle;\n",
       "    }\n",
       "\n",
       "    .dataframe tbody tr th {\n",
       "        vertical-align: top;\n",
       "    }\n",
       "\n",
       "    .dataframe thead th {\n",
       "        text-align: right;\n",
       "    }\n",
       "</style>\n",
       "<table border=\"1\" class=\"dataframe\">\n",
       "  <thead>\n",
       "    <tr style=\"text-align: right;\">\n",
       "      <th></th>\n",
       "      <th>Cement (component 1)(kg in a m^3 mixture)</th>\n",
       "    </tr>\n",
       "  </thead>\n",
       "  <tbody>\n",
       "    <tr>\n",
       "      <th>522</th>\n",
       "      <td>284.0</td>\n",
       "    </tr>\n",
       "    <tr>\n",
       "      <th>701</th>\n",
       "      <td>288.0</td>\n",
       "    </tr>\n",
       "    <tr>\n",
       "      <th>563</th>\n",
       "      <td>210.7</td>\n",
       "    </tr>\n",
       "    <tr>\n",
       "      <th>678</th>\n",
       "      <td>288.0</td>\n",
       "    </tr>\n",
       "    <tr>\n",
       "      <th>98</th>\n",
       "      <td>475.0</td>\n",
       "    </tr>\n",
       "    <tr>\n",
       "      <th>...</th>\n",
       "      <td>...</td>\n",
       "    </tr>\n",
       "    <tr>\n",
       "      <th>157</th>\n",
       "      <td>362.6</td>\n",
       "    </tr>\n",
       "    <tr>\n",
       "      <th>910</th>\n",
       "      <td>144.0</td>\n",
       "    </tr>\n",
       "    <tr>\n",
       "      <th>102</th>\n",
       "      <td>531.3</td>\n",
       "    </tr>\n",
       "    <tr>\n",
       "      <th>170</th>\n",
       "      <td>388.6</td>\n",
       "    </tr>\n",
       "    <tr>\n",
       "      <th>321</th>\n",
       "      <td>249.1</td>\n",
       "    </tr>\n",
       "  </tbody>\n",
       "</table>\n",
       "<p>130 rows × 1 columns</p>\n",
       "</div>"
      ],
      "text/plain": [
       "     Cement (component 1)(kg in a m^3 mixture)\n",
       "522                                      284.0\n",
       "701                                      288.0\n",
       "563                                      210.7\n",
       "678                                      288.0\n",
       "98                                       475.0\n",
       "..                                         ...\n",
       "157                                      362.6\n",
       "910                                      144.0\n",
       "102                                      531.3\n",
       "170                                      388.6\n",
       "321                                      249.1\n",
       "\n",
       "[130 rows x 1 columns]"
      ]
     },
     "execution_count": 10,
     "metadata": {},
     "output_type": "execute_result"
    }
   ],
   "source": [
    "X_test"
   ]
  },
  {
   "cell_type": "markdown",
   "id": "49341429",
   "metadata": {},
   "source": [
    "The following cells define the cost function and gradient descent. For the cost function, I implemented the mean squared error, or MSE. The gradient descent utilizes the derivative of the loss function and continuously updates theta until it is minimized. "
   ]
  },
  {
   "cell_type": "code",
   "execution_count": 11,
   "id": "3eb9cd21",
   "metadata": {},
   "outputs": [],
   "source": [
    "def cost_function(X, y, theta):\n",
    "    m = len(y)\n",
    "    error = np.dot(X, theta.T) - y\n",
    "    cost = 1/(2*m) * np.dot(error.T, error)\n",
    "    return cost, error"
   ]
  },
  {
   "cell_type": "code",
   "execution_count": 12,
   "id": "4fcde69f",
   "metadata": {},
   "outputs": [],
   "source": [
    "def gradient_descent(X, y, theta, alpha, iters):\n",
    "    cost_array = np.zeros(iters)\n",
    "    m = y.size\n",
    "    for i in range(iters):\n",
    "        cost, error = cost_function(X, y, theta)\n",
    "        theta = theta - (alpha * (1/m) * np.dot(X.T, error))\n",
    "        cost_array[i] = cost\n",
    "    return theta, cost_array"
   ]
  },
  {
   "cell_type": "markdown",
   "id": "c658adf4",
   "metadata": {},
   "source": [
    "Here, we initialize the thetas to zero before we run the gradient descent. Then we determine the cost function for each of the data splits. "
   ]
  },
  {
   "cell_type": "code",
   "execution_count": 13,
   "id": "66dc7a0d",
   "metadata": {},
   "outputs": [],
   "source": [
    "pX_train_theta = np.zeros(pX_train.shape[1])\n",
    "pX_test_theta = np.zeros(pX_test.shape[1])\n",
    "X_train_theta = np.zeros(X_train.shape[1])\n",
    "X_test_theta = np.zeros(X_test.shape[1])\n",
    "pX_train_initial_cost, _ = cost_function(pX_train, py_train, pX_train_theta)\n",
    "pX_test_initial_cost, _ = cost_function(pX_test, py_test, pX_test_theta)\n",
    "X_train_initial_cost, _ = cost_function(X_train, y_train, X_train_theta)\n",
    "X_test_initial_cost, _ = cost_function(X_test, y_test, X_test_theta)"
   ]
  },
  {
   "cell_type": "code",
   "execution_count": 14,
   "id": "11caae27",
   "metadata": {},
   "outputs": [],
   "source": [
    "pX_train_theta, pX_train_cost_num = gradient_descent(pX_train, py_train, pX_train_theta, 0.001, 1000)\n",
    "pX_test_theta, pX_test_cost_num = gradient_descent(pX_test, py_test, pX_test_theta, 0.001, 1000)\n",
    "X_train_theta, X_train_cost_num = gradient_descent(X_train, y_train, X_train_theta, 0.000001, 10000)\n",
    "X_test_theta, X_test_cost_num = gradient_descent(X_test, y_test, X_test_theta, 0.000001, 10000)"
   ]
  },
  {
   "cell_type": "code",
   "execution_count": 15,
   "id": "9faadb7a",
   "metadata": {},
   "outputs": [],
   "source": [
    "def plotchart(iterations, cost_num):\n",
    "    fig, ax = plt.subplots()\n",
    "    ax.plot(np.arange(iterations), cost_num, 'r')\n",
    "    ax.set_xlabel('Number of Iterations ')\n",
    "    ax.set_ylabel('Cost')\n",
    "    ax.set_title('Error vs Iterations')\n",
    "    #plt.style.use('fivethirtyeight')\n",
    "    plt.show()"
   ]
  },
  {
   "cell_type": "markdown",
   "id": "3babc079",
   "metadata": {},
   "source": [
    "The following cell is to use sklearn's LinearRegression package to CHECK if our gradient descent implementation is somewhat accurate/close to what sklearn predicts. **IMPORTANT** I only used this as a method of checking, not part of my actual code!"
   ]
  },
  {
   "cell_type": "code",
   "execution_count": 16,
   "id": "10f16eba",
   "metadata": {},
   "outputs": [
    {
     "data": {
      "text/plain": [
       "(13.087385198126267, array([0.07822455]))"
      ]
     },
     "execution_count": 16,
     "metadata": {},
     "output_type": "execute_result"
    }
   ],
   "source": [
    "from sklearn.linear_model import LinearRegression\n",
    "lin_reg = LinearRegression()\n",
    "lin_reg.fit(X_test, y_test)\n",
    "lin_reg.intercept_, lin_reg.coef_"
   ]
  },
  {
   "cell_type": "markdown",
   "id": "552315c9",
   "metadata": {},
   "source": [
    "The following cells plot the decrease in error cost over number of iterations for each of the test splits. The final theta values are also printed out along with the cost error"
   ]
  },
  {
   "cell_type": "code",
   "execution_count": 17,
   "id": "96a12d83",
   "metadata": {},
   "outputs": [
    {
     "data": {
      "image/png": "[encoded data removed]",
      "text/plain": [
       "<Figure size 432x288 with 1 Axes>"
      ]
     },
     "metadata": {
      "needs_background": "light"
     },
     "output_type": "display_data"
    },
    {
     "name": "stdout",
     "output_type": "stream",
     "text": [
      "The processed trained data split with final theta values of [0.31810215], cost error is 0.38591625579671024\n"
     ]
    }
   ],
   "source": [
    "plotchart(1000, pX_train_cost_num)\n",
    "pX_train_final_cost, _ = cost_function(pX_train, py_train, pX_train_theta)\n",
    "print('The processed trained data split with final theta values of {0}, cost error is {1}'.format(pX_train_theta, pX_train_final_cost))"
   ]
  },
  {
   "cell_type": "code",
   "execution_count": 18,
   "id": "be15f63e",
   "metadata": {},
   "outputs": [
    {
     "data": {
      "image/png": "[encoded data removed]",
      "text/plain": [
       "<Figure size 432x288 with 1 Axes>"
      ]
     },
     "metadata": {
      "needs_background": "light"
     },
     "output_type": "display_data"
    },
    {
     "name": "stdout",
     "output_type": "stream",
     "text": [
      "The processed test data split with final theta values of [0.28905619], cost error is 0.437733841802239\n"
     ]
    }
   ],
   "source": [
    "plotchart(1000, pX_test_cost_num)\n",
    "pX_test_final_cost, _ = cost_function(pX_test, py_test, pX_test_theta)\n",
    "print('The processed test data split with final theta values of {0}, cost error is {1}'.format(pX_test_theta, pX_test_final_cost))"
   ]
  },
  {
   "cell_type": "code",
   "execution_count": 19,
   "id": "0a85fdf9",
   "metadata": {},
   "outputs": [
    {
     "data": {
      "image/png": "[encoded data removed]",
      "text/plain": [
       "<Figure size 432x288 with 1 Axes>"
      ]
     },
     "metadata": {
      "needs_background": "light"
     },
     "output_type": "display_data"
    },
    {
     "name": "stdout",
     "output_type": "stream",
     "text": [
      "The raw trained data split with final theta values of [0.12199838], cost error is 114.27591786205618\n"
     ]
    }
   ],
   "source": [
    "plotchart(10000, X_train_cost_num)\n",
    "X_train_final_cost, _ = cost_function(X_train, y_train, X_train_theta)\n",
    "print('The raw trained data split with final theta values of {0}, cost error is {1}'.format(X_train_theta, X_train_final_cost))"
   ]
  },
  {
   "cell_type": "code",
   "execution_count": 20,
   "id": "f75da4dc",
   "metadata": {},
   "outputs": [
    {
     "data": {
      "image/png": "[encoded data removed]",
      "text/plain": [
       "<Figure size 432x288 with 1 Axes>"
      ]
     },
     "metadata": {
      "needs_background": "light"
     },
     "output_type": "display_data"
    },
    {
     "name": "stdout",
     "output_type": "stream",
     "text": [
      "The raw test data split with final theta values of [0.11887113], cost error is 126.06205868450024\n"
     ]
    }
   ],
   "source": [
    "plotchart(10000, X_test_cost_num)\n",
    "X_test_final_cost, _ = cost_function(X_test, y_test, X_test_theta)\n",
    "print('The raw test data split with final theta values of {0}, cost error is {1}'.format(X_test_theta, X_test_final_cost))"
   ]
  },
  {
   "cell_type": "markdown",
   "id": "b5d63e99",
   "metadata": {},
   "source": [
    "The following cell are predictions of the concrete compressive strength using the final theta values. Final predictions are in their standardized form for the standardized splits. The printed out values are in the order of (processed trained split, processed test split, raw train split, raw test split)"
   ]
  },
  {
   "cell_type": "code",
   "execution_count": 22,
   "id": "500eced3",
   "metadata": {},
   "outputs": [
    {
     "data": {
      "text/plain": [
       "(0.7878473999948202, 0.7159089397020566, 65.87912458992926, 64.19041252020881)"
      ]
     },
     "execution_count": 22,
     "metadata": {},
     "output_type": "execute_result"
    }
   ],
   "source": [
    "predict1 = np.array([2.476712]).dot(pX_train_theta)\n",
    "predict2 = np.array([2.476712]).dot(pX_test_theta)\n",
    "predict3 = np.array([540]).dot(X_train_theta)\n",
    "predict4 = np.array([540]).dot(X_test_theta)\n",
    "\n",
    "predict1, predict2, predict3, predict4"
   ]
  },
  {
   "cell_type": "markdown",
   "id": "a810344f",
   "metadata": {},
   "source": [
    "The following cell is the variance explained function. "
   ]
  },
  {
   "cell_type": "code",
   "execution_count": 23,
   "id": "209cc205",
   "metadata": {},
   "outputs": [],
   "source": [
    "def r2(X, y, theta):\n",
    "    predictions = X.dot(theta)\n",
    "    SSE = sum((y-predictions)**2) # Sum of squared error\n",
    "    SST = sum((y-np.mean(y))**2) # Sum of squared total\n",
    "    n = len(X)\n",
    "    MSE = SSE/n # Mean Squared Error\n",
    "    R_squared = 1-(SSE/SST) # R Square\n",
    "    return R_squared"
   ]
  },
  {
   "cell_type": "markdown",
   "id": "87ce828d",
   "metadata": {},
   "source": [
    "The printed out variance explained values are in the order of (processed trained split, processed test split, raw train split, raw test split)"
   ]
  },
  {
   "cell_type": "code",
   "execution_count": 25,
   "id": "75d99159",
   "metadata": {},
   "outputs": [
    {
     "data": {
      "text/plain": [
       "(0.2212603502873116,\n",
       " 0.16901805881222243,\n",
       " 0.17372921924760898,\n",
       " 0.14249962376058223)"
      ]
     },
     "execution_count": 25,
     "metadata": {},
     "output_type": "execute_result"
    }
   ],
   "source": [
    "pX_train_r2 = r2(pX_train, py_train, pX_train_theta)\n",
    "pX_test_r2 = r2(pX_test, py_test, pX_test_theta)\n",
    "X_train_r2 = r2(X_train, y_train, X_train_theta)\n",
    "X_test_r2 = r2(X_test, y_test, X_test_theta)\n",
    "pX_train_r2, pX_test_r2, X_train_r2, X_test_r2"
   ]
  },
  {
   "cell_type": "code",
   "execution_count": 27,
   "id": "4dcb2c89",
   "metadata": {},
   "outputs": [
    {
     "data": {
      "text/plain": [
       "<matplotlib.legend.Legend at 0x7fe2005dcbd0>"
      ]
     },
     "execution_count": 27,
     "metadata": {},
     "output_type": "execute_result"
    },
    {
     "data": {
      "image/png": "[encoded data removed]",
      "text/plain": [
       "<Figure size 720x432 with 1 Axes>"
      ]
     },
     "metadata": {
      "needs_background": "light"
     },
     "output_type": "display_data"
    }
   ],
   "source": [
    "plt.scatter(pX_train, py_train, color='red', marker= '+', label= 'Training Data')\n",
    "plt.plot(pX_train,pX_train.dot(pX_train_theta), color='green', label='Linear Regression')\n",
    "\n",
    "plt.rcParams[\"figure.figsize\"] = (20,20)\n",
    "plt.grid()\n",
    "plt.xlabel('Cement (component 1)(kg in a m^3 mixture)')\n",
    "plt.ylabel('Concrete compressive strength(MPa, megapascals)')\n",
    "plt.title('Univariate Model of Processed Training Cement vs Concrete compressive strength')\n",
    "plt.legend()"
   ]
  },
  {
   "cell_type": "code",
   "execution_count": null,
   "id": "08bb756d",
   "metadata": {},
   "outputs": [],
   "source": []
  }
 ],
 "metadata": {
  "kernelspec": {
   "display_name": "Python 3",
   "language": "python",
   "name": "python3"
  },
  "language_info": {
   "codemirror_mode": {
    "name": "ipython",
    "version": 3
   },
   "file_extension": ".py",
   "mimetype": "text/x-python",
   "name": "python",
   "nbconvert_exporter": "python",
   "pygments_lexer": "ipython3",
   "version": "3.7.11"
  }
 },
 "nbformat": 4,
 "nbformat_minor": 5
}
