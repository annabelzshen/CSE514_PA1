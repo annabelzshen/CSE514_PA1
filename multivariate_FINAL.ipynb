{
 "cells": [
  {
   "cell_type": "markdown",
   "id": "1f632fcc",
   "metadata": {},
   "source": [
    "# MULTIVARIATE LINEAR REGRESSION"
   ]
  },
  {
   "cell_type": "markdown",
   "id": "76d8d5ac",
   "metadata": {},
   "source": [
    "The following notebook is my code for my multi-dimensional linear regression of the concrete data. First, I imported all necessary packages."
   ]
  },
  {
   "cell_type": "code",
   "execution_count": 246,
   "id": "1634d7ed",
   "metadata": {},
   "outputs": [],
   "source": [
    "# importing pandas\n",
    "import pandas as pd\n",
    "#importing numpy\n",
    "import numpy as np\n",
    "#importing matplotlib\n",
    "import matplotlib.pyplot as plt\n",
    "#importing seaborn\n",
    "import seaborn as sb\n",
    "from sklearn.impute import SimpleImputer # used for handling missing data\n",
    "from sklearn.preprocessing import LabelEncoder, OneHotEncoder # used for encoding categorical data\n",
    "from sklearn.model_selection import train_test_split # used for splitting training and testing data\n",
    "from sklearn.preprocessing import StandardScaler # used for feature scaling"
   ]
  },
  {
   "cell_type": "markdown",
   "id": "df1d9918",
   "metadata": {},
   "source": [
    "This is to confirm the data is in the correct directory."
   ]
  },
  {
   "cell_type": "code",
   "execution_count": 247,
   "id": "44a57b76",
   "metadata": {},
   "outputs": [],
   "source": [
    "from os.path import exists\n",
    "data_dir = 'data'\n",
    "#data_dir = 'Documents/Users/kobo/514-assignment-1/data'\n",
    "assert exists(f'{data_dir}/Concrete_Data.csv'), 'concrete data file is missing.'\n",
    "data = pd.read_csv(f'{data_dir}/Concrete_Data.csv')"
   ]
  },
  {
   "cell_type": "markdown",
   "id": "cd1d745d",
   "metadata": {},
   "source": [
    "The following reads the data file and prints out all the feature attributes in the dataset."
   ]
  },
  {
   "cell_type": "code",
   "execution_count": 248,
   "id": "d33f2c72",
   "metadata": {},
   "outputs": [
    {
     "data": {
      "text/plain": [
       "Index(['Cement (component 1)(kg in a m^3 mixture)',\n",
       "       'Blast Furnace Slag (component 2)(kg in a m^3 mixture)',\n",
       "       'Fly Ash (component 3)(kg in a m^3 mixture)',\n",
       "       'Water  (component 4)(kg in a m^3 mixture)',\n",
       "       'Superplasticizer (component 5)(kg in a m^3 mixture)',\n",
       "       'Coarse Aggregate  (component 6)(kg in a m^3 mixture)',\n",
       "       'Fine Aggregate (component 7)(kg in a m^3 mixture)', 'Age (day)',\n",
       "       'Concrete compressive strength(MPa, megapascals) '],\n",
       "      dtype='object')"
      ]
     },
     "execution_count": 248,
     "metadata": {},
     "output_type": "execute_result"
    }
   ],
   "source": [
    "data.columns"
   ]
  },
  {
   "cell_type": "markdown",
   "id": "9cc162b0",
   "metadata": {},
   "source": [
    "The following cell replaces any values that are missing or nan with the mean of that feature. "
   ]
  },
  {
   "cell_type": "code",
   "execution_count": 249,
   "id": "93ab9ae8",
   "metadata": {},
   "outputs": [],
   "source": [
    "imputer = SimpleImputer(missing_values=np.nan, strategy='mean') \n",
    "imputer = imputer.fit(data.iloc[:, 1:])\n",
    "data.iloc[:, 1:] = imputer.transform(data.iloc[:, 1:])"
   ]
  },
  {
   "cell_type": "markdown",
   "id": "c4a15b9d",
   "metadata": {},
   "source": [
    "The following cell separates the dataset into its input features (X) and its output feature (Y). In addition, I standardized all features by subtracting each feature's value from the feature's mean and then dividing that by the feature's standard deviation."
   ]
  },
  {
   "cell_type": "code",
   "execution_count": 250,
   "id": "697f5347",
   "metadata": {},
   "outputs": [],
   "source": [
    "X=data[['Cement (component 1)(kg in a m^3 mixture)',\n",
    "       'Blast Furnace Slag (component 2)(kg in a m^3 mixture)',\n",
    "       'Fly Ash (component 3)(kg in a m^3 mixture)',\n",
    "       'Water  (component 4)(kg in a m^3 mixture)',\n",
    "       'Superplasticizer (component 5)(kg in a m^3 mixture)',\n",
    "       'Coarse Aggregate  (component 6)(kg in a m^3 mixture)',\n",
    "       'Fine Aggregate (component 7)(kg in a m^3 mixture)', 'Age (day)']]\n",
    "Y=data['Concrete compressive strength(MPa, megapascals) ']\n",
    "py=np.array((Y-Y.mean())/Y.std())\n",
    "pX=X.apply(lambda rec:(rec-rec.mean())/rec.std(),axis=0)"
   ]
  },
  {
   "cell_type": "markdown",
   "id": "1e27e7d4",
   "metadata": {},
   "source": [
    "The following cell shows the standardization of my feature values. "
   ]
  },
  {
   "cell_type": "code",
   "execution_count": 281,
   "id": "d81bd4cc",
   "metadata": {
    "scrolled": true
   },
   "outputs": [
    {
     "data": {
      "text/html": [
       "<div>\n",
       "<style scoped>\n",
       "    .dataframe tbody tr th:only-of-type {\n",
       "        vertical-align: middle;\n",
       "    }\n",
       "\n",
       "    .dataframe tbody tr th {\n",
       "        vertical-align: top;\n",
       "    }\n",
       "\n",
       "    .dataframe thead th {\n",
       "        text-align: right;\n",
       "    }\n",
       "</style>\n",
       "<table border=\"1\" class=\"dataframe\">\n",
       "  <thead>\n",
       "    <tr style=\"text-align: right;\">\n",
       "      <th></th>\n",
       "      <th>Cement (component 1)(kg in a m^3 mixture)</th>\n",
       "      <th>Blast Furnace Slag (component 2)(kg in a m^3 mixture)</th>\n",
       "      <th>Fly Ash (component 3)(kg in a m^3 mixture)</th>\n",
       "      <th>Water  (component 4)(kg in a m^3 mixture)</th>\n",
       "      <th>Superplasticizer (component 5)(kg in a m^3 mixture)</th>\n",
       "      <th>Coarse Aggregate  (component 6)(kg in a m^3 mixture)</th>\n",
       "      <th>Fine Aggregate (component 7)(kg in a m^3 mixture)</th>\n",
       "      <th>Age (day)</th>\n",
       "    </tr>\n",
       "  </thead>\n",
       "  <tbody>\n",
       "    <tr>\n",
       "      <th>0</th>\n",
       "      <td>2.476712</td>\n",
       "      <td>-0.856472</td>\n",
       "      <td>-0.846733</td>\n",
       "      <td>-0.916319</td>\n",
       "      <td>-0.620147</td>\n",
       "      <td>0.862735</td>\n",
       "      <td>-1.217079</td>\n",
       "      <td>-0.279597</td>\n",
       "    </tr>\n",
       "    <tr>\n",
       "      <th>1</th>\n",
       "      <td>2.476712</td>\n",
       "      <td>-0.856472</td>\n",
       "      <td>-0.846733</td>\n",
       "      <td>-0.916319</td>\n",
       "      <td>-0.620147</td>\n",
       "      <td>1.055651</td>\n",
       "      <td>-1.217079</td>\n",
       "      <td>-0.279597</td>\n",
       "    </tr>\n",
       "    <tr>\n",
       "      <th>2</th>\n",
       "      <td>0.491187</td>\n",
       "      <td>0.795140</td>\n",
       "      <td>-0.846733</td>\n",
       "      <td>2.174405</td>\n",
       "      <td>-1.038638</td>\n",
       "      <td>-0.526262</td>\n",
       "      <td>-2.239829</td>\n",
       "      <td>3.551340</td>\n",
       "    </tr>\n",
       "    <tr>\n",
       "      <th>3</th>\n",
       "      <td>0.491187</td>\n",
       "      <td>0.795140</td>\n",
       "      <td>-0.846733</td>\n",
       "      <td>2.174405</td>\n",
       "      <td>-1.038638</td>\n",
       "      <td>-0.526262</td>\n",
       "      <td>-2.239829</td>\n",
       "      <td>5.055221</td>\n",
       "    </tr>\n",
       "    <tr>\n",
       "      <th>4</th>\n",
       "      <td>-0.790075</td>\n",
       "      <td>0.678079</td>\n",
       "      <td>-0.846733</td>\n",
       "      <td>0.488555</td>\n",
       "      <td>-1.038638</td>\n",
       "      <td>0.070492</td>\n",
       "      <td>0.647569</td>\n",
       "      <td>4.976069</td>\n",
       "    </tr>\n",
       "    <tr>\n",
       "      <th>...</th>\n",
       "      <td>...</td>\n",
       "      <td>...</td>\n",
       "      <td>...</td>\n",
       "      <td>...</td>\n",
       "      <td>...</td>\n",
       "      <td>...</td>\n",
       "      <td>...</td>\n",
       "      <td>...</td>\n",
       "    </tr>\n",
       "    <tr>\n",
       "      <th>1025</th>\n",
       "      <td>-0.045623</td>\n",
       "      <td>0.487998</td>\n",
       "      <td>0.564271</td>\n",
       "      <td>-0.092126</td>\n",
       "      <td>0.451190</td>\n",
       "      <td>-1.322363</td>\n",
       "      <td>-0.065861</td>\n",
       "      <td>-0.279597</td>\n",
       "    </tr>\n",
       "    <tr>\n",
       "      <th>1026</th>\n",
       "      <td>0.392628</td>\n",
       "      <td>-0.856472</td>\n",
       "      <td>0.959602</td>\n",
       "      <td>0.675872</td>\n",
       "      <td>0.702285</td>\n",
       "      <td>-1.993711</td>\n",
       "      <td>0.496651</td>\n",
       "      <td>-0.279597</td>\n",
       "    </tr>\n",
       "    <tr>\n",
       "      <th>1027</th>\n",
       "      <td>-1.269472</td>\n",
       "      <td>0.759210</td>\n",
       "      <td>0.850222</td>\n",
       "      <td>0.521336</td>\n",
       "      <td>-0.017520</td>\n",
       "      <td>-1.035561</td>\n",
       "      <td>0.080068</td>\n",
       "      <td>-0.279597</td>\n",
       "    </tr>\n",
       "    <tr>\n",
       "      <th>1028</th>\n",
       "      <td>-1.168042</td>\n",
       "      <td>1.307430</td>\n",
       "      <td>-0.846733</td>\n",
       "      <td>-0.279443</td>\n",
       "      <td>0.852942</td>\n",
       "      <td>0.214537</td>\n",
       "      <td>0.191074</td>\n",
       "      <td>-0.279597</td>\n",
       "    </tr>\n",
       "    <tr>\n",
       "      <th>1029</th>\n",
       "      <td>-0.193939</td>\n",
       "      <td>0.308349</td>\n",
       "      <td>0.376762</td>\n",
       "      <td>0.891286</td>\n",
       "      <td>0.400971</td>\n",
       "      <td>-1.394385</td>\n",
       "      <td>-0.150675</td>\n",
       "      <td>-0.279597</td>\n",
       "    </tr>\n",
       "  </tbody>\n",
       "</table>\n",
       "<p>1030 rows × 8 columns</p>\n",
       "</div>"
      ],
      "text/plain": [
       "      Cement (component 1)(kg in a m^3 mixture)  \\\n",
       "0                                      2.476712   \n",
       "1                                      2.476712   \n",
       "2                                      0.491187   \n",
       "3                                      0.491187   \n",
       "4                                     -0.790075   \n",
       "...                                         ...   \n",
       "1025                                  -0.045623   \n",
       "1026                                   0.392628   \n",
       "1027                                  -1.269472   \n",
       "1028                                  -1.168042   \n",
       "1029                                  -0.193939   \n",
       "\n",
       "      Blast Furnace Slag (component 2)(kg in a m^3 mixture)  \\\n",
       "0                                             -0.856472       \n",
       "1                                             -0.856472       \n",
       "2                                              0.795140       \n",
       "3                                              0.795140       \n",
       "4                                              0.678079       \n",
       "...                                                 ...       \n",
       "1025                                           0.487998       \n",
       "1026                                          -0.856472       \n",
       "1027                                           0.759210       \n",
       "1028                                           1.307430       \n",
       "1029                                           0.308349       \n",
       "\n",
       "      Fly Ash (component 3)(kg in a m^3 mixture)  \\\n",
       "0                                      -0.846733   \n",
       "1                                      -0.846733   \n",
       "2                                      -0.846733   \n",
       "3                                      -0.846733   \n",
       "4                                      -0.846733   \n",
       "...                                          ...   \n",
       "1025                                    0.564271   \n",
       "1026                                    0.959602   \n",
       "1027                                    0.850222   \n",
       "1028                                   -0.846733   \n",
       "1029                                    0.376762   \n",
       "\n",
       "      Water  (component 4)(kg in a m^3 mixture)  \\\n",
       "0                                     -0.916319   \n",
       "1                                     -0.916319   \n",
       "2                                      2.174405   \n",
       "3                                      2.174405   \n",
       "4                                      0.488555   \n",
       "...                                         ...   \n",
       "1025                                  -0.092126   \n",
       "1026                                   0.675872   \n",
       "1027                                   0.521336   \n",
       "1028                                  -0.279443   \n",
       "1029                                   0.891286   \n",
       "\n",
       "      Superplasticizer (component 5)(kg in a m^3 mixture)  \\\n",
       "0                                             -0.620147     \n",
       "1                                             -0.620147     \n",
       "2                                             -1.038638     \n",
       "3                                             -1.038638     \n",
       "4                                             -1.038638     \n",
       "...                                                 ...     \n",
       "1025                                           0.451190     \n",
       "1026                                           0.702285     \n",
       "1027                                          -0.017520     \n",
       "1028                                           0.852942     \n",
       "1029                                           0.400971     \n",
       "\n",
       "      Coarse Aggregate  (component 6)(kg in a m^3 mixture)  \\\n",
       "0                                              0.862735      \n",
       "1                                              1.055651      \n",
       "2                                             -0.526262      \n",
       "3                                             -0.526262      \n",
       "4                                              0.070492      \n",
       "...                                                 ...      \n",
       "1025                                          -1.322363      \n",
       "1026                                          -1.993711      \n",
       "1027                                          -1.035561      \n",
       "1028                                           0.214537      \n",
       "1029                                          -1.394385      \n",
       "\n",
       "      Fine Aggregate (component 7)(kg in a m^3 mixture)  Age (day)  \n",
       "0                                             -1.217079  -0.279597  \n",
       "1                                             -1.217079  -0.279597  \n",
       "2                                             -2.239829   3.551340  \n",
       "3                                             -2.239829   5.055221  \n",
       "4                                              0.647569   4.976069  \n",
       "...                                                 ...        ...  \n",
       "1025                                          -0.065861  -0.279597  \n",
       "1026                                           0.496651  -0.279597  \n",
       "1027                                           0.080068  -0.279597  \n",
       "1028                                           0.191074  -0.279597  \n",
       "1029                                          -0.150675  -0.279597  \n",
       "\n",
       "[1030 rows x 8 columns]"
      ]
     },
     "execution_count": 281,
     "metadata": {},
     "output_type": "execute_result"
    }
   ],
   "source": [
    "pX"
   ]
  },
  {
   "cell_type": "markdown",
   "id": "d1fb15e5",
   "metadata": {},
   "source": [
    "The following cells splits the dataset into its training and testing sets for BOTH the processed and raw data. This way we can compare the two later on."
   ]
  },
  {
   "cell_type": "code",
   "execution_count": 252,
   "id": "5e049554",
   "metadata": {},
   "outputs": [],
   "source": [
    "X_train, X_test, y_train, y_test = train_test_split(X, Y, test_size=0.126, random_state=4)"
   ]
  },
  {
   "cell_type": "code",
   "execution_count": 253,
   "id": "2983185c",
   "metadata": {},
   "outputs": [],
   "source": [
    "pX_train, pX_test, py_train, py_test = train_test_split(pX, py, test_size=0.126, random_state=4)"
   ]
  },
  {
   "cell_type": "code",
   "execution_count": 254,
   "id": "b7e8b9bd",
   "metadata": {},
   "outputs": [
    {
     "data": {
      "text/html": [
       "<div>\n",
       "<style scoped>\n",
       "    .dataframe tbody tr th:only-of-type {\n",
       "        vertical-align: middle;\n",
       "    }\n",
       "\n",
       "    .dataframe tbody tr th {\n",
       "        vertical-align: top;\n",
       "    }\n",
       "\n",
       "    .dataframe thead th {\n",
       "        text-align: right;\n",
       "    }\n",
       "</style>\n",
       "<table border=\"1\" class=\"dataframe\">\n",
       "  <thead>\n",
       "    <tr style=\"text-align: right;\">\n",
       "      <th></th>\n",
       "      <th>Cement (component 1)(kg in a m^3 mixture)</th>\n",
       "      <th>Blast Furnace Slag (component 2)(kg in a m^3 mixture)</th>\n",
       "      <th>Fly Ash (component 3)(kg in a m^3 mixture)</th>\n",
       "      <th>Water  (component 4)(kg in a m^3 mixture)</th>\n",
       "      <th>Superplasticizer (component 5)(kg in a m^3 mixture)</th>\n",
       "      <th>Coarse Aggregate  (component 6)(kg in a m^3 mixture)</th>\n",
       "      <th>Fine Aggregate (component 7)(kg in a m^3 mixture)</th>\n",
       "      <th>Age (day)</th>\n",
       "    </tr>\n",
       "  </thead>\n",
       "  <tbody>\n",
       "    <tr>\n",
       "      <th>522</th>\n",
       "      <td>284.0</td>\n",
       "      <td>15.0</td>\n",
       "      <td>141.0</td>\n",
       "      <td>179.0</td>\n",
       "      <td>5.5</td>\n",
       "      <td>842.0</td>\n",
       "      <td>801.0</td>\n",
       "      <td>56.0</td>\n",
       "    </tr>\n",
       "    <tr>\n",
       "      <th>701</th>\n",
       "      <td>288.0</td>\n",
       "      <td>192.0</td>\n",
       "      <td>0.0</td>\n",
       "      <td>192.0</td>\n",
       "      <td>0.0</td>\n",
       "      <td>932.0</td>\n",
       "      <td>717.8</td>\n",
       "      <td>90.0</td>\n",
       "    </tr>\n",
       "    <tr>\n",
       "      <th>563</th>\n",
       "      <td>210.7</td>\n",
       "      <td>316.1</td>\n",
       "      <td>0.0</td>\n",
       "      <td>185.7</td>\n",
       "      <td>0.0</td>\n",
       "      <td>977.0</td>\n",
       "      <td>689.3</td>\n",
       "      <td>7.0</td>\n",
       "    </tr>\n",
       "    <tr>\n",
       "      <th>678</th>\n",
       "      <td>288.0</td>\n",
       "      <td>192.0</td>\n",
       "      <td>0.0</td>\n",
       "      <td>192.0</td>\n",
       "      <td>0.0</td>\n",
       "      <td>932.0</td>\n",
       "      <td>717.8</td>\n",
       "      <td>28.0</td>\n",
       "    </tr>\n",
       "    <tr>\n",
       "      <th>98</th>\n",
       "      <td>475.0</td>\n",
       "      <td>118.8</td>\n",
       "      <td>0.0</td>\n",
       "      <td>181.1</td>\n",
       "      <td>8.9</td>\n",
       "      <td>852.1</td>\n",
       "      <td>781.5</td>\n",
       "      <td>7.0</td>\n",
       "    </tr>\n",
       "    <tr>\n",
       "      <th>...</th>\n",
       "      <td>...</td>\n",
       "      <td>...</td>\n",
       "      <td>...</td>\n",
       "      <td>...</td>\n",
       "      <td>...</td>\n",
       "      <td>...</td>\n",
       "      <td>...</td>\n",
       "      <td>...</td>\n",
       "    </tr>\n",
       "    <tr>\n",
       "      <th>157</th>\n",
       "      <td>362.6</td>\n",
       "      <td>189.0</td>\n",
       "      <td>0.0</td>\n",
       "      <td>164.9</td>\n",
       "      <td>11.6</td>\n",
       "      <td>944.7</td>\n",
       "      <td>755.8</td>\n",
       "      <td>56.0</td>\n",
       "    </tr>\n",
       "    <tr>\n",
       "      <th>910</th>\n",
       "      <td>144.0</td>\n",
       "      <td>136.0</td>\n",
       "      <td>106.0</td>\n",
       "      <td>178.0</td>\n",
       "      <td>7.0</td>\n",
       "      <td>941.0</td>\n",
       "      <td>774.0</td>\n",
       "      <td>28.0</td>\n",
       "    </tr>\n",
       "    <tr>\n",
       "      <th>102</th>\n",
       "      <td>531.3</td>\n",
       "      <td>0.0</td>\n",
       "      <td>0.0</td>\n",
       "      <td>141.8</td>\n",
       "      <td>28.2</td>\n",
       "      <td>852.1</td>\n",
       "      <td>893.7</td>\n",
       "      <td>7.0</td>\n",
       "    </tr>\n",
       "    <tr>\n",
       "      <th>170</th>\n",
       "      <td>388.6</td>\n",
       "      <td>97.1</td>\n",
       "      <td>0.0</td>\n",
       "      <td>157.9</td>\n",
       "      <td>12.1</td>\n",
       "      <td>852.1</td>\n",
       "      <td>925.7</td>\n",
       "      <td>91.0</td>\n",
       "    </tr>\n",
       "    <tr>\n",
       "      <th>321</th>\n",
       "      <td>249.1</td>\n",
       "      <td>0.0</td>\n",
       "      <td>98.8</td>\n",
       "      <td>158.1</td>\n",
       "      <td>12.8</td>\n",
       "      <td>987.8</td>\n",
       "      <td>889.0</td>\n",
       "      <td>28.0</td>\n",
       "    </tr>\n",
       "  </tbody>\n",
       "</table>\n",
       "<p>130 rows × 8 columns</p>\n",
       "</div>"
      ],
      "text/plain": [
       "     Cement (component 1)(kg in a m^3 mixture)  \\\n",
       "522                                      284.0   \n",
       "701                                      288.0   \n",
       "563                                      210.7   \n",
       "678                                      288.0   \n",
       "98                                       475.0   \n",
       "..                                         ...   \n",
       "157                                      362.6   \n",
       "910                                      144.0   \n",
       "102                                      531.3   \n",
       "170                                      388.6   \n",
       "321                                      249.1   \n",
       "\n",
       "     Blast Furnace Slag (component 2)(kg in a m^3 mixture)  \\\n",
       "522                                               15.0       \n",
       "701                                              192.0       \n",
       "563                                              316.1       \n",
       "678                                              192.0       \n",
       "98                                               118.8       \n",
       "..                                                 ...       \n",
       "157                                              189.0       \n",
       "910                                              136.0       \n",
       "102                                                0.0       \n",
       "170                                               97.1       \n",
       "321                                                0.0       \n",
       "\n",
       "     Fly Ash (component 3)(kg in a m^3 mixture)  \\\n",
       "522                                       141.0   \n",
       "701                                         0.0   \n",
       "563                                         0.0   \n",
       "678                                         0.0   \n",
       "98                                          0.0   \n",
       "..                                          ...   \n",
       "157                                         0.0   \n",
       "910                                       106.0   \n",
       "102                                         0.0   \n",
       "170                                         0.0   \n",
       "321                                        98.8   \n",
       "\n",
       "     Water  (component 4)(kg in a m^3 mixture)  \\\n",
       "522                                      179.0   \n",
       "701                                      192.0   \n",
       "563                                      185.7   \n",
       "678                                      192.0   \n",
       "98                                       181.1   \n",
       "..                                         ...   \n",
       "157                                      164.9   \n",
       "910                                      178.0   \n",
       "102                                      141.8   \n",
       "170                                      157.9   \n",
       "321                                      158.1   \n",
       "\n",
       "     Superplasticizer (component 5)(kg in a m^3 mixture)  \\\n",
       "522                                                5.5     \n",
       "701                                                0.0     \n",
       "563                                                0.0     \n",
       "678                                                0.0     \n",
       "98                                                 8.9     \n",
       "..                                                 ...     \n",
       "157                                               11.6     \n",
       "910                                                7.0     \n",
       "102                                               28.2     \n",
       "170                                               12.1     \n",
       "321                                               12.8     \n",
       "\n",
       "     Coarse Aggregate  (component 6)(kg in a m^3 mixture)  \\\n",
       "522                                              842.0      \n",
       "701                                              932.0      \n",
       "563                                              977.0      \n",
       "678                                              932.0      \n",
       "98                                               852.1      \n",
       "..                                                 ...      \n",
       "157                                              944.7      \n",
       "910                                              941.0      \n",
       "102                                              852.1      \n",
       "170                                              852.1      \n",
       "321                                              987.8      \n",
       "\n",
       "     Fine Aggregate (component 7)(kg in a m^3 mixture)  Age (day)  \n",
       "522                                              801.0       56.0  \n",
       "701                                              717.8       90.0  \n",
       "563                                              689.3        7.0  \n",
       "678                                              717.8       28.0  \n",
       "98                                               781.5        7.0  \n",
       "..                                                 ...        ...  \n",
       "157                                              755.8       56.0  \n",
       "910                                              774.0       28.0  \n",
       "102                                              893.7        7.0  \n",
       "170                                              925.7       91.0  \n",
       "321                                              889.0       28.0  \n",
       "\n",
       "[130 rows x 8 columns]"
      ]
     },
     "execution_count": 254,
     "metadata": {},
     "output_type": "execute_result"
    }
   ],
   "source": [
    "X_test"
   ]
  },
  {
   "cell_type": "markdown",
   "id": "49341429",
   "metadata": {},
   "source": [
    "The following cells define the cost function and gradient descent. For the cost function, I implemented the mean squared error, or MSE. The gradient descent utilizes the derivative of the loss function and continuously updates theta until it is minimized. "
   ]
  },
  {
   "cell_type": "code",
   "execution_count": 255,
   "id": "3eb9cd21",
   "metadata": {},
   "outputs": [],
   "source": [
    "def cost_function(X, y, theta):\n",
    "    m = len(y)\n",
    "    error = np.dot(X, theta.T) - y\n",
    "    cost = 1/(2*m) * np.dot(error.T, error)\n",
    "    return cost, error"
   ]
  },
  {
   "cell_type": "code",
   "execution_count": 256,
   "id": "4fcde69f",
   "metadata": {},
   "outputs": [],
   "source": [
    "def gradient_descent(X, y, theta, alpha, iters):\n",
    "    cost_array = np.zeros(iters)\n",
    "    m = y.size\n",
    "    for i in range(iters):\n",
    "        cost, error = cost_function(X, y, theta)\n",
    "        theta = theta - (alpha * (1/m) * np.dot(X.T, error))\n",
    "        cost_array[i] = cost\n",
    "    return theta, cost_array"
   ]
  },
  {
   "cell_type": "markdown",
   "id": "c658adf4",
   "metadata": {},
   "source": [
    "Here, we initialize the thetas to zero before we run the gradient descent. Then we determine the cost function for each of the data splits. "
   ]
  },
  {
   "cell_type": "code",
   "execution_count": 257,
   "id": "66dc7a0d",
   "metadata": {},
   "outputs": [],
   "source": [
    "pX_train_theta = np.zeros(pX_train.shape[1])\n",
    "pX_test_theta = np.zeros(pX_test.shape[1])\n",
    "X_train_theta = np.zeros(X_train.shape[1])\n",
    "X_test_theta = np.zeros(X_test.shape[1])\n",
    "pX_train_initial_cost, _ = cost_function(pX_train, py_train, pX_train_theta)\n",
    "pX_test_initial_cost, _ = cost_function(pX_test, py_test, pX_test_theta)\n",
    "X_train_initial_cost, _ = cost_function(X_train, y_train, X_train_theta)\n",
    "X_test_initial_cost, _ = cost_function(X_test, y_test, X_test_theta)"
   ]
  },
  {
   "cell_type": "code",
   "execution_count": 258,
   "id": "11caae27",
   "metadata": {},
   "outputs": [],
   "source": [
    "pX_train_theta, pX_train_cost_num = gradient_descent(pX_train, py_train, pX_train_theta, 0.001, 1000)\n",
    "pX_test_theta, pX_test_cost_num = gradient_descent(pX_test, py_test, pX_test_theta, 0.001, 1000)\n",
    "X_train_theta, X_train_cost_num = gradient_descent(X_train, y_train, X_train_theta, 0.000001, 10000)\n",
    "X_test_theta, X_test_cost_num = gradient_descent(X_test, y_test, X_test_theta, 0.000001, 10000)"
   ]
  },
  {
   "cell_type": "code",
   "execution_count": 266,
   "id": "9faadb7a",
   "metadata": {},
   "outputs": [],
   "source": [
    "def plotchart(iterations, cost_num):\n",
    "    fig, ax = plt.subplots()\n",
    "    ax.plot(np.arange(iterations), cost_num, 'r')\n",
    "    ax.set_xlabel('Number of Iterations ')\n",
    "    ax.set_ylabel('Cost')\n",
    "    ax.set_title('Error vs Iterations')\n",
    "    #plt.style.use('fivethirtyeight')\n",
    "    plt.show()"
   ]
  },
  {
   "cell_type": "markdown",
   "id": "3babc079",
   "metadata": {},
   "source": [
    "The following cell is to use sklearn's LinearRegression package to CHECK if our gradient descent implementation is somewhat accurate/close to what sklearn predicts. **IMPORTANT** I only used this as a method of checking, not part of my actual code!"
   ]
  },
  {
   "cell_type": "code",
   "execution_count": 267,
   "id": "10f16eba",
   "metadata": {},
   "outputs": [
    {
     "data": {
      "text/plain": [
       "(-65.4484530512874,\n",
       " array([ 0.12231459,  0.10466751,  0.09159276, -0.04316247,  0.60695679,\n",
       "         0.03660629,  0.02136743,  0.10978654]))"
      ]
     },
     "execution_count": 267,
     "metadata": {},
     "output_type": "execute_result"
    }
   ],
   "source": [
    "from sklearn.linear_model import LinearRegression\n",
    "lin_reg = LinearRegression()\n",
    "lin_reg.fit(X_test, y_test)\n",
    "lin_reg.intercept_, lin_reg.coef_"
   ]
  },
  {
   "cell_type": "markdown",
   "id": "552315c9",
   "metadata": {},
   "source": [
    "The following cells plot the decrease in error cost over number of iterations for each of the test splits. The final theta values are also printed out along with the cost error"
   ]
  },
  {
   "cell_type": "code",
   "execution_count": 271,
   "id": "96a12d83",
   "metadata": {},
   "outputs": [
    {
     "data": {
      "image/png": "[encoded data removed]",
      "text/plain": [
       "<Figure size 432x288 with 1 Axes>"
      ]
     },
     "metadata": {},
     "output_type": "display_data"
    },
    {
     "name": "stdout",
     "output_type": "stream",
     "text": [
      "The processed trained data split with final theta values of [ 0.28571352  0.09663541 -0.03699824 -0.18252392  0.19513469 -0.08524329\n",
      " -0.11162747  0.22204861], cost error is 0.23631286938841495\n"
     ]
    }
   ],
   "source": [
    "plotchart(1000, pX_train_cost_num)\n",
    "pX_train_final_cost, _ = cost_function(pX_train, py_train, pX_train_theta)\n",
    "print('The processed trained data split with final theta values of {0}, cost error is {1}'.format(pX_train_theta, pX_train_final_cost))"
   ]
  },
  {
   "cell_type": "code",
   "execution_count": 272,
   "id": "be15f63e",
   "metadata": {},
   "outputs": [
    {
     "data": {
      "image/png": "[encoded data removed]",
      "text/plain": [
       "<Figure size 432x288 with 1 Axes>"
      ]
     },
     "metadata": {},
     "output_type": "display_data"
    },
    {
     "name": "stdout",
     "output_type": "stream",
     "text": [
      "The processed test data split with final theta values of [ 0.25371773  0.09901771 -0.06030999 -0.15521937  0.19791877 -0.03384726\n",
      " -0.10563275  0.2497841 ], cost error is 0.29017386329235945\n"
     ]
    }
   ],
   "source": [
    "plotchart(1000, pX_test_cost_num)\n",
    "pX_test_final_cost, _ = cost_function(pX_test, py_test, pX_test_theta)\n",
    "print('The processed test data split with final theta values of {0}, cost error is {1}'.format(pX_test_theta, pX_test_final_cost))"
   ]
  },
  {
   "cell_type": "code",
   "execution_count": 274,
   "id": "0a85fdf9",
   "metadata": {},
   "outputs": [
    {
     "data": {
      "image/png": "[encoded data removed]",
      "text/plain": [
       "<Figure size 432x288 with 1 Axes>"
      ]
     },
     "metadata": {},
     "output_type": "display_data"
    },
    {
     "name": "stdout",
     "output_type": "stream",
     "text": [
      "The raw trained data split with final theta values of [ 0.11972244  0.10440738  0.09109665 -0.20910275  0.05896257  0.00970864\n",
      "  0.01628735  0.11530254], cost error is 51.49537388236182\n"
     ]
    }
   ],
   "source": [
    "plotchart(10000, X_train_cost_num)\n",
    "X_train_final_cost, _ = cost_function(X_train, y_train, X_train_theta)\n",
    "print('The raw trained data split with final theta values of {0}, cost error is {1}'.format(X_train_theta, X_train_final_cost))"
   ]
  },
  {
   "cell_type": "code",
   "execution_count": 275,
   "id": "f75da4dc",
   "metadata": {},
   "outputs": [
    {
     "data": {
      "image/png": "[encoded data removed]",
      "text/plain": [
       "<Figure size 432x288 with 1 Axes>"
      ]
     },
     "metadata": {},
     "output_type": "display_data"
    },
    {
     "name": "stdout",
     "output_type": "stream",
     "text": [
      "The raw test data split with final theta values of [ 0.11710274  0.09749562  0.09089622 -0.16804224  0.09514741  0.00844487\n",
      "  0.00780208  0.1112131 ], cost error is 68.81555273266352\n"
     ]
    }
   ],
   "source": [
    "plotchart(10000, X_test_cost_num)\n",
    "X_test_final_cost, _ = cost_function(X_test, y_test, X_test_theta)\n",
    "print('The raw test data split with final theta values of {0}, cost error is {1}'.format(X_test_theta, X_test_final_cost))"
   ]
  },
  {
   "cell_type": "markdown",
   "id": "b5d63e99",
   "metadata": {},
   "source": [
    "The following cell are predictions of the concrete compressive strength using the final theta values. Final predictions are in their standardized form for the standardized splits. The printed out values are in the order of (processed trained split, processed test split, raw train split, raw test split)"
   ]
  },
  {
   "cell_type": "code",
   "execution_count": 282,
   "id": "500eced3",
   "metadata": {},
   "outputs": [
    {
     "data": {
      "text/plain": [
       "(0.702663111829209, 0.6436613262182426, 55.258581480260816, 53.42133796551494)"
      ]
     },
     "execution_count": 282,
     "metadata": {},
     "output_type": "execute_result"
    }
   ],
   "source": [
    "predict1 = np.array([2.476712, -.856472, -0.846733, -0.916319, -0.620147, 0.862735, -1.217079, -.279597]).dot(pX_train_theta)\n",
    "predict2 = np.array([2.476712, -.856472, -0.846733, -0.916319, -0.620147, 0.862735, -1.217079, -.279597]).dot(pX_test_theta)\n",
    "predict3 = np.array([540, 0, 0, 162, 2.5, 1040, 676, 28]).dot(X_train_theta)\n",
    "predict4 = np.array([540, 0, 0, 162, 2.5, 1040, 676, 28]).dot(X_test_theta)\n",
    "\n",
    "predict1, predict2, predict3, predict4"
   ]
  },
  {
   "cell_type": "markdown",
   "id": "a810344f",
   "metadata": {},
   "source": [
    "The following cell is the variance explained function. "
   ]
  },
  {
   "cell_type": "code",
   "execution_count": 277,
   "id": "209cc205",
   "metadata": {},
   "outputs": [],
   "source": [
    "def r2(X, y, theta):\n",
    "    predictions = X.dot(theta)\n",
    "    SSE = sum((y-predictions)**2) # Sum of squared error\n",
    "    SST = sum((y-np.mean(y))**2) # Sum of squared total\n",
    "    n = len(X)\n",
    "    MSE = SSE/n # Mean Squared Error\n",
    "    R_squared = 1-(SSE/SST) # R Square\n",
    "    return R_squared"
   ]
  },
  {
   "cell_type": "markdown",
   "id": "87ce828d",
   "metadata": {},
   "source": [
    "The printed out variance explained values are in the order of (processed trained split, processed test split, raw train split, raw test split)"
   ]
  },
  {
   "cell_type": "code",
   "execution_count": 283,
   "id": "75d99159",
   "metadata": {},
   "outputs": [
    {
     "data": {
      "text/plain": [
       "(0.5231447279922967, 0.449141882181502, 0.6276632594255165, 0.531902279122165)"
      ]
     },
     "execution_count": 283,
     "metadata": {},
     "output_type": "execute_result"
    }
   ],
   "source": [
    "pX_train_r2 = r2(pX_train, py_train, theta)\n",
    "pX_test_r2 = r2(pX_test, py_test, pX_test_theta)\n",
    "X_train_r2 = r2(X_train, y_train, X_train_theta)\n",
    "X_test_r2 = r2(X_test, y_test, X_test_theta)\n",
    "pX_train_r2, pX_test_r2, X_train_r2, X_test_r2"
   ]
  }
 ],
 "metadata": {
  "kernelspec": {
   "display_name": "Python 3",
   "language": "python",
   "name": "python3"
  },
  "language_info": {
   "codemirror_mode": {
    "name": "ipython",
    "version": 3
   },
   "file_extension": ".py",
   "mimetype": "text/x-python",
   "name": "python",
   "nbconvert_exporter": "python",
   "pygments_lexer": "ipython3",
   "version": "3.7.11"
  }
 },
 "nbformat": 4,
 "nbformat_minor": 5
}
